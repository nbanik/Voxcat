{
 "cells": [
  {
   "cell_type": "code",
   "execution_count": 1,
   "metadata": {
    "collapsed": false
   },
   "outputs": [
    {
     "name": "stdout",
     "output_type": "stream",
     "text": [
      "1540.00446649 1943.98598774\n",
      "[ 1540.00446649  1550.00446649  1559.87585083  1569.62269206  1579.24885976\n",
      "  1588.75803426  1598.15371911  1607.43925261  1616.61781834  1625.69245485\n",
      "  1634.66606464  1643.54142238  1652.32118255  1661.00788648  1669.60396892\n",
      "  1678.11176406  1686.53351119  1694.8713599   1703.12737501  1711.30354103\n",
      "  1719.40176648  1727.42388776  1735.37167292  1743.24682506  1751.05098561\n",
      "  1758.78573733  1766.45260717  1774.05306897  1781.58854594  1789.06041301\n",
      "  1796.46999911  1803.8185892   1811.1074263   1818.33771333  1825.51061485\n",
      "  1832.62725876  1839.68873783  1846.69611125  1853.65040597  1860.55261805\n",
      "  1867.40371396  1874.20463174  1880.95628215  1887.65954976  1894.31529395\n",
      "  1900.92434992  1907.48752958  1914.00562248  1920.47939661  1926.9095992\n",
      "  1933.29695753  1939.64217959  1945.94595485]\n",
      "[0.59999999999999998, 0.604668927333461, 0.60929080676988123, 0.61386712124431808, 0.61839928034676706, 0.62288862523878352, 0.62733643315711074, 0.63174392154576742, 0.63611225185323494, 0.64044253302720044, 0.64473582473566748, 0.64899314034006361, 0.653215449643201, 0.65740368143249184, 0.66155872583668907, 0.66568143651252254, 0.66977263267594123, 0.67383310099118654, 0.6778635973296292, 0.68186484840912576, 0.6858375533236275, 0.68978238497185196, 0.69369999139300542, 0.69759099701681104, 0.70145600383443718, 0.70529559249632678, 0.70911032334244695, 0.71290073736984716, 0.71666735714224572, 0.72041068764571015, 0.72413121709431205, 0.72782941768926024, 0.73150574633474175, 0.73516064531343417, 0.73879454292442281, 0.74240785408603516, 0.74600098090591094, 0.74957431322045243, 0.75312822910562904, 0.75666309536096554, 0.76017926796840873, 0.76367709252763982, 0.76715690466928554, 0.770619030447383, 0.77406378671234211, 0.77749148146558389, 0.78090241419692674, 0.78429687620573896, 0.78767515090679296, 0.79103751412169954, 0.79438423435674299, 0.79771557306787766, 0.80103178491360205]\n"
     ]
    }
   ],
   "source": [
    "import numpy as np\n",
    "from matplotlib import pyplot as plt\n",
    "from mpl_toolkits.mplot3d import Axes3D\n",
    "from scipy import integrate\n",
    "from scipy.optimize import fsolve\n",
    "from astropy.io import fits\n",
    "\n",
    "#Max/min RA and DEC set after visually selecting sky coverage\n",
    "max_ra=100.0\n",
    "min_ra=0.0\n",
    "min_dec=20.0\n",
    "max_dec=60.0\n",
    "\n",
    "min_z=0.6   # \n",
    "max_z=0.8\n",
    "\n",
    "c=300000 \n",
    "H0=100\n",
    "om_m=0.3089\n",
    "om_l=0.6911\n",
    "\n",
    "#Convert redshift to comoving distance\n",
    "def fz(x):\n",
    "    def g(z):\n",
    "        return (om_m*((1+z)**3)+om_l)**(-0.5)\n",
    "        \n",
    "    a,err=integrate.quad(g,0,x)  \n",
    "    return a\n",
    "\n",
    "min_chi=(c/H0)*fz(min_z) \n",
    "max_chi=(c/H0)*fz(max_z)\n",
    "\n",
    "print min_chi , max_chi\n",
    "\n",
    "n_chi_bins=52 # chosen to cover the redshift region\n",
    "delta_chi=np.zeros(n_chi_bins) \n",
    "\n",
    "chi_bin_edges=np.zeros(n_chi_bins +1)  #initialize a list which will hold the lower bounds of the z intervals\n",
    "\n",
    "delta_chi[0]=10        #10 Mpc delta_z\n",
    "\n",
    "chi_bin_edges[0]=min_chi\n",
    "\n",
    "i=1\n",
    "while i<n_chi_bins:\n",
    "    chi_bin_edges[i]=chi_bin_edges[i-1]+delta_chi[i-1]\n",
    "    delta_chi[i]=delta_chi[i-1]*((chi_bin_edges[i-1]/chi_bin_edges[i])**2)\n",
    "    i+=1\n",
    "chi_bin_edges[n_chi_bins]= chi_bin_edges[n_chi_bins-1]+delta_chi[n_chi_bins-1] \n",
    "print chi_bin_edges\n",
    "\n",
    "c=300000 \n",
    "H0=100\n",
    "om_m=0.3089\n",
    "om_l=0.6911\n",
    "\n",
    "#######invert comoving distance to redshift####################################\n",
    "\n",
    "def fg(z,a):\n",
    "    def h(x):\n",
    "        return (c/H0)*(om_m*((1+x)**3)+om_l)**(-0.5)\n",
    "\n",
    "    b, err = integrate.quad(h, 0, z) \n",
    "    return b-a \n",
    "        \n",
    "z_bin_edges=[]  #empty list which will be populated with the lower bounds of the redshift pixels\n",
    "\n",
    "a = chi_bin_edges[0:]\n",
    "\n",
    "x0 = 1.0\n",
    "for a_ in a:\n",
    "    xi = fsolve(fg, x0, args=(a_,))[0]\n",
    "    z_bin_edges.append(xi)\n",
    "    x0 = xi    \n",
    "\n",
    "print z_bin_edges   \n",
    "\n",
    "fz=open(\"C:\\\\Users\\\\Nilanjan\\\\Google Drive\\\\Python files\\\\LSST\\\\zbin_edges.txt\",\"w\")\n",
    "for i in range(len(z_bin_edges)):\n",
    "    fz.write(str(z_bin_edges[i]) + \"\\n\")\n",
    "    \n",
    "fz.close()    \n",
    "\n",
    "#check if chi^2*delta chi is the same\n",
    "#for i in range(len(chi_bin_edges)-1):\n",
    "#    print (chi_bin_edges[i+1] - chi_bin_edges[i])*chi_bin_edges[i]**2\n",
    "\n"
   ]
  },
  {
   "cell_type": "code",
   "execution_count": null,
   "metadata": {
    "collapsed": false
   },
   "outputs": [],
   "source": [
    "for i in range(len(chi_bin_edges)-1):\n",
    "    print ((chi_bin_edges[i])**2 )*(chi_bin_edges[i+1]-chi_bin_edges[i])"
   ]
  },
  {
   "cell_type": "code",
   "execution_count": 2,
   "metadata": {
    "collapsed": false
   },
   "outputs": [
    {
     "name": "stdout",
     "output_type": "stream",
     "text": [
      "[   0.    1.    2.    3.    4.    5.    6.    7.    8.    9.   10.   11.\n",
      "   12.   13.   14.   15.   16.   17.   18.   19.   20.   21.   22.   23.\n",
      "   24.   25.   26.   27.   28.   29.   30.   31.   32.   33.   34.   35.\n",
      "   36.   37.   38.   39.   40.   41.   42.   43.   44.   45.   46.   47.\n",
      "   48.   49.   50.   51.   52.   53.   54.   55.   56.   57.   58.   59.\n",
      "   60.   61.   62.   63.   64.   65.   66.   67.   68.   69.   70.   71.\n",
      "   72.   73.   74.   75.   76.   77.   78.   79.   80.   81.   82.   83.\n",
      "   84.   85.   86.   87.   88.   89.   90.   91.   92.   93.   94.   95.\n",
      "   96.   97.   98.   99.  100.]\n"
     ]
    }
   ],
   "source": [
    "import numpy as np\n",
    "from matplotlib import pyplot as plt\n",
    "from mpl_toolkits.mplot3d import Axes3D\n",
    "from scipy import integrate\n",
    "from scipy.optimize import fsolve\n",
    "from astropy.io import fits\n",
    "\n",
    "#Max/min RA and DEC set after visually selecting sky coverage\n",
    "max_ra=100\n",
    "min_ra=0.0\n",
    "max_dec=60.0\n",
    "min_dec=20.0\n",
    "\n",
    "n_ra_bins=100 #set number of bins=60\n",
    "\n",
    "delta_ra=(max_ra-min_ra)/n_ra_bins #no of ra intervals\n",
    "\n",
    "#compute the edges of the RA bins\n",
    "ra_bin_edges=np.zeros(n_ra_bins + 1)\n",
    "ra_bin_edges[0]=min_ra\n",
    "\n",
    "for i in range(n_ra_bins):\n",
    "    ra_bin_edges[i+1] = ra_bin_edges[i]+delta_ra\n",
    "    \n",
    "print ra_bin_edges \n",
    "\n",
    "fra=open(\"C:\\\\Users\\\\Nilanjan\\\\Google Drive\\\\Python files\\\\LSST\\\\rabin_edges_100.txt\",\"w\")\n",
    "for i in range(len(ra_bin_edges)):\n",
    "    fra.write(str(ra_bin_edges[i]) + \"\\n\")\n",
    "    \n",
    "fra.close() \n"
   ]
  },
  {
   "cell_type": "code",
   "execution_count": 7,
   "metadata": {
    "collapsed": false
   },
   "outputs": [
    {
     "name": "stdout",
     "output_type": "stream",
     "text": [
      "0.0082003650947\n",
      "[ 20.          20.5         21.00161232  21.50489128  22.00989261\n",
      "  22.51667354  23.02529286  23.53581098  24.04829009  24.56279415\n",
      "  25.07938908  25.5981428   26.11912535  26.64240904  27.16806853\n",
      "  27.69618096  28.22682616  28.76008669  29.29604809  29.83479901\n",
      "  30.37643141  30.92104073  31.46872614  32.01959073  32.57374179\n",
      "  33.13129102  33.69235491  34.25705492  34.82551795  35.39787658\n",
      "  35.97426956  36.55484217  37.13974672  37.72914308  38.32319916\n",
      "  38.9220916   39.52600642  40.13513971  40.74969851  41.36990165\n",
      "  41.99598077  42.62818141  43.26676425  43.91200645  44.56420319\n",
      "  45.22366938  45.89074158  46.56578016  47.24917176  47.94133212\n",
      "  48.64270916  49.35378674  50.07508872  50.80718387  51.55069141\n",
      "  52.30628757  53.07471318  53.85678266  54.65339476  55.46554518\n",
      "  56.29434194  57.14102387  58.00698327  58.89379378  59.80324519\n",
      "  60.73738715]\n"
     ]
    }
   ],
   "source": [
    "n_dec_bins=65 #54 chosen after analyzing how many bins needed to cover the data\n",
    "\n",
    "##compute the edges of the DEC bins\n",
    "\n",
    "dec_bin_edges_north=np.zeros(n_dec_bins + 1)\n",
    "dec_bin_edges_north[0]=min_dec\n",
    "\n",
    "delta_dec=np.zeros(n_dec_bins)\n",
    "\n",
    "delta_dec[0]= 0.5    #Set the first delta dec to be 1 degree\n",
    "\n",
    "\n",
    "del_Om=np.cos(np.radians(dec_bin_edges_north[0]))*np.radians(delta_dec[0]) #del\\Om ~ Cos(dec_avg)*del(dec)\n",
    "print del_Om\n",
    "\n",
    "x0=0\n",
    "i=1\n",
    "while i < n_dec_bins:\n",
    "    dec_bin_edges_north[i]=dec_bin_edges_north[i-1]+delta_dec[i-1]\n",
    "    \n",
    "    def f(dx):\n",
    "        return (np.sin((np.pi/2-np.radians(dec_bin_edges_north[i])))*dx)-del_Om\n",
    "       \n",
    "    xi = fsolve(f, x0)[0]\n",
    "    delta_dec[i]=np.degrees(xi)\n",
    "    x0=xi\n",
    "    i+=1\n",
    "dec_bin_edges_north[n_dec_bins]= dec_bin_edges_north[n_dec_bins -1]+delta_dec[n_dec_bins -1]   \n",
    "#print dec_bin_edges_north\n",
    "\n",
    "#dec_bin_edges_south = -1.*dec_bin_edges_north[1:]\n",
    "\n",
    "#print dec_bin_edges_south\n",
    "\n",
    "#dec_bin_edges=np.concatenate((dec_bin_edges_south[::-1],dec_bin_edges_north))\n",
    "\n",
    "print dec_bin_edges_north\n",
    "\n",
    "fdec=open(\"C:\\\\Users\\\\Nilanjan\\\\Google Drive\\\\Python files\\\\LSST\\\\decbin_edges_20-60.txt\",\"w\")\n",
    "for i in range(len(dec_bin_edges_north)):\n",
    "    fdec.write(str(dec_bin_edges_north[i]) + \"\\n\")\n",
    "    \n",
    "fdec.close() \n"
   ]
  },
  {
   "cell_type": "code",
   "execution_count": null,
   "metadata": {
    "collapsed": false
   },
   "outputs": [],
   "source": [
    "print len(dec_bin_edges)\n",
    "for i in range(len(dec_bin_edges)-1):\n",
    "        if dec_bin_edges[i] >= 0.0 :\n",
    "            print np.sin(0.5*np.pi - np.radians(dec_bin_edges[i]))*abs(np.radians(dec_bin_edges[i+1]-dec_bin_edges[i]))\n",
    "            \n",
    "        elif dec_bin_edges[i] < 0.0 :\n",
    "            print np.sin(0.5*np.pi - np.radians(dec_bin_edges[i+1]))*abs(np.radians(dec_bin_edges[i+1]-dec_bin_edges[i]))\n",
    "            \n",
    "        \n",
    "    "
   ]
  },
  {
   "cell_type": "code",
   "execution_count": null,
   "metadata": {
    "collapsed": false
   },
   "outputs": [],
   "source": [
    "print ((chi_bin_edges[0])**2 )*(chi_bin_edges[1]-chi_bin_edges[0])*np.radians(0.5)*np.cos(np.radians(dec_bin_edges[0]))*np.cos(np.radians(dec_bin_edges[0]))*np.radians(dec_bin_edges[1]-dec_bin_edges[0])"
   ]
  },
  {
   "cell_type": "code",
   "execution_count": null,
   "metadata": {
    "collapsed": true
   },
   "outputs": [],
   "source": [
    "gw=[]\n",
    "\n",
    "for i in range(len(gal_pix)):\n",
    "    gw.append(np.c_[[gal_pix[:,:2][i]]*len(z_mid),z_mid])  #list of arrays (ra,dec,chi) "
   ]
  }
 ],
 "metadata": {
  "kernelspec": {
   "display_name": "Python 2",
   "language": "python",
   "name": "python2"
  },
  "language_info": {
   "codemirror_mode": {
    "name": "ipython",
    "version": 2
   },
   "file_extension": ".py",
   "mimetype": "text/x-python",
   "name": "python",
   "nbconvert_exporter": "python",
   "pygments_lexer": "ipython2",
   "version": "2.7.11"
  }
 },
 "nbformat": 4,
 "nbformat_minor": 0
}
